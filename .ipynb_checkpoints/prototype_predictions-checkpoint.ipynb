{
 "cells": [
  {
   "cell_type": "code",
   "execution_count": 1,
   "metadata": {},
   "outputs": [],
   "source": [
    "import pandas as pd \n",
    "from matplotlib import pyplot as plt \n",
    "import numpy as np \n",
    "import matplotlib \n",
    "from sqlalchemy import create_engine\n",
    "%matplotlib inline "
   ]
  },
  {
   "cell_type": "code",
   "execution_count": 2,
   "metadata": {},
   "outputs": [],
   "source": [
    "''' \n",
    "bitconnect to the database \n",
    "'''\n",
    "def get_db_connection():\n",
    "    username = 'mig'\n",
    "    password = 'password' \n",
    "    host_name = 'localhost'\n",
    "    port = 5432\n",
    "    db_name = 'mtg'\n",
    "    conn_str = 'postgresql://{}:{}@{}:{}/{}'.format(username, password, host_name, port, db_name)\n",
    "\n",
    "    engine = create_engine(conn_str)\n",
    "    return engine"
   ]
  },
  {
   "cell_type": "code",
   "execution_count": 25,
   "metadata": {},
   "outputs": [],
   "source": [
    "'''\n",
    "read the records\n",
    "'''\n",
    "\n",
    "now = pd.Timestamp.now(tz='UTC').date()\n",
    "now_minus_24_hours = now - pd.Timedelta('%d hours'%(24,))\n",
    "engine = get_db_connection()\n",
    "\n",
    "query = '''\n",
    "SELECT *  \n",
    "FROM card_listings;\n",
    "'''#%(str(now_minus_24_hours), str(now))\n",
    "\n",
    "df_db = pd.read_sql_query(query, engine)\n",
    "engine.dispose()"
   ]
  },
  {
   "cell_type": "code",
   "execution_count": 26,
   "metadata": {},
   "outputs": [
    {
     "data": {
      "text/plain": [
       "card_name                              object\n",
       "ts                        datetime64[ns, UTC]\n",
       "list_order                              int64\n",
       "seller_name                            object\n",
       "seller_sales                            int64\n",
       "seller_available_items                  int64\n",
       "item_price                            float64\n",
       "item_amount                             int64\n",
       "item_location                          object\n",
       "item_condition                         object\n",
       "item_language                          object\n",
       "item_is_playset                          bool\n",
       "item_is_foil                             bool\n",
       "dtype: object"
      ]
     },
     "execution_count": 26,
     "metadata": {},
     "output_type": "execute_result"
    }
   ],
   "source": [
    "df_db.dtypes"
   ]
  },
  {
   "cell_type": "code",
   "execution_count": 27,
   "metadata": {},
   "outputs": [
    {
     "data": {
      "text/plain": [
       "(37694, 13)"
      ]
     },
     "execution_count": 27,
     "metadata": {},
     "output_type": "execute_result"
    }
   ],
   "source": [
    "df_db.shape"
   ]
  },
  {
   "cell_type": "code",
   "execution_count": 28,
   "metadata": {},
   "outputs": [
    {
     "data": {
      "text/plain": [
       "Timestamp('2019-10-13 23:18:45.870939+0000', tz='UTC')"
      ]
     },
     "execution_count": 28,
     "metadata": {},
     "output_type": "execute_result"
    }
   ],
   "source": [
    "now = pd.Timestamp.now(tz='UTC')\n",
    "now"
   ]
  },
  {
   "cell_type": "code",
   "execution_count": 29,
   "metadata": {},
   "outputs": [
    {
     "data": {
      "text/plain": [
       "Timestamp('2019-10-13 23:18:45.870939+0000', tz='UTC')"
      ]
     },
     "execution_count": 29,
     "metadata": {},
     "output_type": "execute_result"
    }
   ],
   "source": [
    "pd.to_datetime(now)"
   ]
  },
  {
   "cell_type": "code",
   "execution_count": 30,
   "metadata": {},
   "outputs": [
    {
     "data": {
      "text/plain": [
       "datetime.datetime(2019, 10, 13, 23, 18, 45, 870939, tzinfo=<UTC>)"
      ]
     },
     "execution_count": 30,
     "metadata": {},
     "output_type": "execute_result"
    }
   ],
   "source": [
    "now.to_pydatetime()"
   ]
  },
  {
   "cell_type": "code",
   "execution_count": 31,
   "metadata": {},
   "outputs": [
    {
     "data": {
      "text/html": [
       "<div>\n",
       "<style scoped>\n",
       "    .dataframe tbody tr th:only-of-type {\n",
       "        vertical-align: middle;\n",
       "    }\n",
       "\n",
       "    .dataframe tbody tr th {\n",
       "        vertical-align: top;\n",
       "    }\n",
       "\n",
       "    .dataframe thead th {\n",
       "        text-align: right;\n",
       "    }\n",
       "</style>\n",
       "<table border=\"1\" class=\"dataframe\">\n",
       "  <thead>\n",
       "    <tr style=\"text-align: right;\">\n",
       "      <th></th>\n",
       "      <th>card_name</th>\n",
       "      <th>ts</th>\n",
       "      <th>list_order</th>\n",
       "      <th>seller_name</th>\n",
       "      <th>seller_sales</th>\n",
       "      <th>seller_available_items</th>\n",
       "      <th>item_price</th>\n",
       "      <th>item_amount</th>\n",
       "      <th>item_location</th>\n",
       "      <th>item_condition</th>\n",
       "      <th>item_language</th>\n",
       "      <th>item_is_playset</th>\n",
       "      <th>item_is_foil</th>\n",
       "    </tr>\n",
       "  </thead>\n",
       "  <tbody>\n",
       "    <tr>\n",
       "      <td>0</td>\n",
       "      <td>Snow Covered Island</td>\n",
       "      <td>2019-10-10 16:05:18.268806+00:00</td>\n",
       "      <td>0</td>\n",
       "      <td>toycastle</td>\n",
       "      <td>3356</td>\n",
       "      <td>119357</td>\n",
       "      <td>0.0</td>\n",
       "      <td>1</td>\n",
       "      <td></td>\n",
       "      <td>NM</td>\n",
       "      <td>English</td>\n",
       "      <td>False</td>\n",
       "      <td>False</td>\n",
       "    </tr>\n",
       "  </tbody>\n",
       "</table>\n",
       "</div>"
      ],
      "text/plain": [
       "             card_name                               ts  list_order  \\\n",
       "0  Snow Covered Island 2019-10-10 16:05:18.268806+00:00           0   \n",
       "\n",
       "  seller_name  seller_sales  seller_available_items  item_price  item_amount  \\\n",
       "0   toycastle          3356                  119357         0.0            1   \n",
       "\n",
       "  item_location item_condition item_language  item_is_playset  item_is_foil  \n",
       "0                           NM       English            False         False  "
      ]
     },
     "execution_count": 31,
     "metadata": {},
     "output_type": "execute_result"
    }
   ],
   "source": [
    "df_db.head(1)"
   ]
  },
  {
   "cell_type": "code",
   "execution_count": 32,
   "metadata": {},
   "outputs": [],
   "source": [
    "#fix the ts\n",
    "def correct_ts(ts):\n",
    "    minute = 0 if ts.minute < 30 else 30\n",
    "    ts_corrected = pd.Timestamp(ts.year, ts.month, ts.day, ts.hour, minute)\n",
    "    return ts_corrected\n",
    "\n",
    "def data_transformer(df):\n",
    "    df = df.copy()\n",
    "    df.ts = df.ts.map(correct_ts)\n",
    "    df = df.drop('list_order', axis=1)\n",
    "    df = df.set_index(['ts', 'card_name'])\n",
    "    df = df.sort_index()\n",
    "    return df"
   ]
  },
  {
   "cell_type": "code",
   "execution_count": 33,
   "metadata": {},
   "outputs": [],
   "source": [
    "df = data_transformer(df_db)"
   ]
  },
  {
   "cell_type": "code",
   "execution_count": 35,
   "metadata": {},
   "outputs": [
    {
     "data": {
      "text/html": [
       "<div>\n",
       "<style scoped>\n",
       "    .dataframe tbody tr th:only-of-type {\n",
       "        vertical-align: middle;\n",
       "    }\n",
       "\n",
       "    .dataframe tbody tr th {\n",
       "        vertical-align: top;\n",
       "    }\n",
       "\n",
       "    .dataframe thead th {\n",
       "        text-align: right;\n",
       "    }\n",
       "</style>\n",
       "<table border=\"1\" class=\"dataframe\">\n",
       "  <thead>\n",
       "    <tr style=\"text-align: right;\">\n",
       "      <th></th>\n",
       "      <th></th>\n",
       "      <th>seller_name</th>\n",
       "      <th>seller_sales</th>\n",
       "      <th>seller_available_items</th>\n",
       "      <th>item_price</th>\n",
       "      <th>item_amount</th>\n",
       "      <th>item_location</th>\n",
       "      <th>item_condition</th>\n",
       "      <th>item_language</th>\n",
       "      <th>item_is_playset</th>\n",
       "      <th>item_is_foil</th>\n",
       "    </tr>\n",
       "    <tr>\n",
       "      <th>ts</th>\n",
       "      <th>card_name</th>\n",
       "      <th></th>\n",
       "      <th></th>\n",
       "      <th></th>\n",
       "      <th></th>\n",
       "      <th></th>\n",
       "      <th></th>\n",
       "      <th></th>\n",
       "      <th></th>\n",
       "      <th></th>\n",
       "      <th></th>\n",
       "    </tr>\n",
       "  </thead>\n",
       "  <tbody>\n",
       "    <tr>\n",
       "      <td rowspan=\"5\" valign=\"top\">2019-10-10 16:00:00</td>\n",
       "      <td>Fabled Passage</td>\n",
       "      <td>supersing</td>\n",
       "      <td>245</td>\n",
       "      <td>81</td>\n",
       "      <td>8.0</td>\n",
       "      <td>1</td>\n",
       "      <td></td>\n",
       "      <td>NM</td>\n",
       "      <td>Spanish</td>\n",
       "      <td>False</td>\n",
       "      <td>False</td>\n",
       "    </tr>\n",
       "    <tr>\n",
       "      <td>Fabled Passage</td>\n",
       "      <td>Oppenheimer</td>\n",
       "      <td>40</td>\n",
       "      <td>834</td>\n",
       "      <td>8.0</td>\n",
       "      <td>1</td>\n",
       "      <td></td>\n",
       "      <td>NM</td>\n",
       "      <td>German</td>\n",
       "      <td>False</td>\n",
       "      <td>False</td>\n",
       "    </tr>\n",
       "    <tr>\n",
       "      <td>Fabled Passage</td>\n",
       "      <td>AlphaCard</td>\n",
       "      <td>1074</td>\n",
       "      <td>2785</td>\n",
       "      <td>8.0</td>\n",
       "      <td>2</td>\n",
       "      <td></td>\n",
       "      <td>NM</td>\n",
       "      <td>English</td>\n",
       "      <td>False</td>\n",
       "      <td>False</td>\n",
       "    </tr>\n",
       "    <tr>\n",
       "      <td>Fabled Passage</td>\n",
       "      <td>NerdyCaffe</td>\n",
       "      <td>246</td>\n",
       "      <td>219</td>\n",
       "      <td>8.0</td>\n",
       "      <td>1</td>\n",
       "      <td></td>\n",
       "      <td>M</td>\n",
       "      <td>Italian</td>\n",
       "      <td>False</td>\n",
       "      <td>False</td>\n",
       "    </tr>\n",
       "    <tr>\n",
       "      <td>Fabled Passage</td>\n",
       "      <td>infrancesco</td>\n",
       "      <td>13</td>\n",
       "      <td>5</td>\n",
       "      <td>8.0</td>\n",
       "      <td>1</td>\n",
       "      <td></td>\n",
       "      <td>NM</td>\n",
       "      <td>Italian</td>\n",
       "      <td>False</td>\n",
       "      <td>False</td>\n",
       "    </tr>\n",
       "  </tbody>\n",
       "</table>\n",
       "</div>"
      ],
      "text/plain": [
       "                                    seller_name  seller_sales  \\\n",
       "ts                  card_name                                   \n",
       "2019-10-10 16:00:00 Fabled Passage    supersing           245   \n",
       "                    Fabled Passage  Oppenheimer            40   \n",
       "                    Fabled Passage    AlphaCard          1074   \n",
       "                    Fabled Passage   NerdyCaffe           246   \n",
       "                    Fabled Passage  infrancesco            13   \n",
       "\n",
       "                                    seller_available_items  item_price  \\\n",
       "ts                  card_name                                            \n",
       "2019-10-10 16:00:00 Fabled Passage                      81         8.0   \n",
       "                    Fabled Passage                     834         8.0   \n",
       "                    Fabled Passage                    2785         8.0   \n",
       "                    Fabled Passage                     219         8.0   \n",
       "                    Fabled Passage                       5         8.0   \n",
       "\n",
       "                                    item_amount item_location item_condition  \\\n",
       "ts                  card_name                                                  \n",
       "2019-10-10 16:00:00 Fabled Passage            1                           NM   \n",
       "                    Fabled Passage            1                           NM   \n",
       "                    Fabled Passage            2                           NM   \n",
       "                    Fabled Passage            1                           M    \n",
       "                    Fabled Passage            1                           NM   \n",
       "\n",
       "                                   item_language  item_is_playset  \\\n",
       "ts                  card_name                                       \n",
       "2019-10-10 16:00:00 Fabled Passage       Spanish            False   \n",
       "                    Fabled Passage        German            False   \n",
       "                    Fabled Passage       English            False   \n",
       "                    Fabled Passage       Italian            False   \n",
       "                    Fabled Passage       Italian            False   \n",
       "\n",
       "                                    item_is_foil  \n",
       "ts                  card_name                     \n",
       "2019-10-10 16:00:00 Fabled Passage         False  \n",
       "                    Fabled Passage         False  \n",
       "                    Fabled Passage         False  \n",
       "                    Fabled Passage         False  \n",
       "                    Fabled Passage         False  "
      ]
     },
     "execution_count": 35,
     "metadata": {},
     "output_type": "execute_result"
    }
   ],
   "source": [
    "df.head()"
   ]
  },
  {
   "cell_type": "code",
   "execution_count": 36,
   "metadata": {},
   "outputs": [
    {
     "data": {
      "image/png": "[encoded data removed]",
      "text/plain": [
       "<Figure size 1152x288 with 1 Axes>"
      ]
     },
     "metadata": {
      "needs_background": "light"
     },
     "output_type": "display_data"
    }
   ],
   "source": [
    "df.loc['Oct 2019'].groupby('item_amount').sum().item_price.plot(figsize=(16, 4)); "
   ]
  },
  {
   "cell_type": "code",
   "execution_count": 38,
   "metadata": {},
   "outputs": [
    {
     "data": {
      "image/png": "[encoded data removed]",
      "text/plain": [
       "<Figure size 1152x288 with 1 Axes>"
      ]
     },
     "metadata": {
      "needs_background": "light"
     },
     "output_type": "display_data"
    }
   ],
   "source": [
    "df.loc['Oct 2019', 'item_amount'].groupby(df.index).sum().plot(figsize=(16, 4)); "
   ]
  }
 ],
 "metadata": {
  "kernelspec": {
   "display_name": "Python 3",
   "language": "python",
   "name": "python3"
  },
  "language_info": {
   "codemirror_mode": {
    "name": "ipython",
    "version": 3
   },
   "file_extension": ".py",
   "mimetype": "text/x-python",
   "name": "python",
   "nbconvert_exporter": "python",
   "pygments_lexer": "ipython3",
   "version": "3.7.4"
  }
 },
 "nbformat": 4,
 "nbformat_minor": 2
}
