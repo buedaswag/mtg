{
 "cells": [
  {
   "cell_type": "code",
   "execution_count": 1,
   "metadata": {},
   "outputs": [
    {
     "data": {
      "text/plain": [
       "['Snow_Covered_Island',\n",
       " 'Fabled_Passage',\n",
       " 'Once_Upon_a_Time',\n",
       " 'Murderous_Rider_Swift_End',\n",
       " 'Questing_Beast',\n",
       " 'Oko_Thief_of_Crowns']"
      ]
     },
     "execution_count": 1,
     "metadata": {},
     "output_type": "execute_result"
    }
   ],
   "source": [
    "card_names = [\n",
    "    'Snow Covered Island', \n",
    "    'Fabled Passage', \n",
    "    'Once Upon a Time', \n",
    "    'Murderous Rider // Swift End', \n",
    "    'Questing Beast', \n",
    "    'Oko, Thief of Crowns'\n",
    "]\n",
    "card_names_file = [card_name.replace('/', '').replace(',', '').replace('  ', '_').replace(' ', '_') for card_name in card_names]\n",
    "card_names_file"
   ]
  },
  {
   "cell_type": "code",
   "execution_count": 2,
   "metadata": {},
   "outputs": [
    {
     "data": {
      "text/plain": [
       "'Murderous Rider // Swift End'"
      ]
     },
     "execution_count": 2,
     "metadata": {},
     "output_type": "execute_result"
    }
   ],
   "source": [
    "card_name = card_names[3]\n",
    "card_name"
   ]
  },
  {
   "cell_type": "code",
   "execution_count": 3,
   "metadata": {},
   "outputs": [],
   "source": [
    "'''\n",
    "loading the pickled data to plot, produce it in a format ready to be consumed by fusion\n",
    "'''\n",
    "import pandas as pd \n",
    "from matplotlib import pyplot as plt \n",
    "import numpy as np \n",
    "import matplotlib \n",
    "from sqlalchemy import create_engine\n",
    "import pickle\n",
    "from scipy.stats import zscore\n",
    "\n",
    "%matplotlib inline \n",
    "idx = pd.IndexSlice"
   ]
  },
  {
   "cell_type": "code",
   "execution_count": 4,
   "metadata": {},
   "outputs": [],
   "source": [
    "with open('./pickles/df.pickle', 'rb') as handle:\n",
    "    df = pickle.load(handle)"
   ]
  },
  {
   "cell_type": "code",
   "execution_count": 5,
   "metadata": {},
   "outputs": [
    {
     "data": {
      "text/html": [
       "<div>\n",
       "<style scoped>\n",
       "    .dataframe tbody tr th:only-of-type {\n",
       "        vertical-align: middle;\n",
       "    }\n",
       "\n",
       "    .dataframe tbody tr th {\n",
       "        vertical-align: top;\n",
       "    }\n",
       "\n",
       "    .dataframe thead th {\n",
       "        text-align: right;\n",
       "    }\n",
       "</style>\n",
       "<table border=\"1\" class=\"dataframe\">\n",
       "  <thead>\n",
       "    <tr style=\"text-align: right;\">\n",
       "      <th></th>\n",
       "      <th></th>\n",
       "      <th>seller_name</th>\n",
       "      <th>seller_sales</th>\n",
       "      <th>seller_available_items</th>\n",
       "      <th>item_price</th>\n",
       "      <th>item_amount</th>\n",
       "      <th>item_location</th>\n",
       "      <th>item_condition</th>\n",
       "      <th>item_language</th>\n",
       "      <th>item_is_playset</th>\n",
       "      <th>item_is_foil</th>\n",
       "      <th>avg_sell_price</th>\n",
       "    </tr>\n",
       "    <tr>\n",
       "      <th>ts</th>\n",
       "      <th>card_name</th>\n",
       "      <th></th>\n",
       "      <th></th>\n",
       "      <th></th>\n",
       "      <th></th>\n",
       "      <th></th>\n",
       "      <th></th>\n",
       "      <th></th>\n",
       "      <th></th>\n",
       "      <th></th>\n",
       "      <th></th>\n",
       "      <th></th>\n",
       "    </tr>\n",
       "  </thead>\n",
       "  <tbody>\n",
       "    <tr>\n",
       "      <td>2019-10-10 16:30:00</td>\n",
       "      <td>Snow Covered Island</td>\n",
       "      <td>toycastle</td>\n",
       "      <td>3357</td>\n",
       "      <td>119435</td>\n",
       "      <td>0.0</td>\n",
       "      <td>1</td>\n",
       "      <td></td>\n",
       "      <td>NM</td>\n",
       "      <td>English</td>\n",
       "      <td>False</td>\n",
       "      <td>False</td>\n",
       "      <td>0.0</td>\n",
       "    </tr>\n",
       "  </tbody>\n",
       "</table>\n",
       "</div>"
      ],
      "text/plain": [
       "                                        seller_name  seller_sales  \\\n",
       "ts                  card_name                                       \n",
       "2019-10-10 16:30:00 Snow Covered Island   toycastle          3357   \n",
       "\n",
       "                                         seller_available_items  item_price  \\\n",
       "ts                  card_name                                                 \n",
       "2019-10-10 16:30:00 Snow Covered Island                  119435         0.0   \n",
       "\n",
       "                                         item_amount item_location  \\\n",
       "ts                  card_name                                        \n",
       "2019-10-10 16:30:00 Snow Covered Island            1                 \n",
       "\n",
       "                                        item_condition item_language  \\\n",
       "ts                  card_name                                          \n",
       "2019-10-10 16:30:00 Snow Covered Island             NM       English   \n",
       "\n",
       "                                         item_is_playset  item_is_foil  \\\n",
       "ts                  card_name                                            \n",
       "2019-10-10 16:30:00 Snow Covered Island            False         False   \n",
       "\n",
       "                                         avg_sell_price  \n",
       "ts                  card_name                            \n",
       "2019-10-10 16:30:00 Snow Covered Island             0.0  "
      ]
     },
     "execution_count": 5,
     "metadata": {},
     "output_type": "execute_result"
    }
   ],
   "source": [
    "df.head(1)"
   ]
  },
  {
   "cell_type": "code",
   "execution_count": 6,
   "metadata": {},
   "outputs": [
    {
     "data": {
      "text/html": [
       "<div>\n",
       "<style scoped>\n",
       "    .dataframe tbody tr th:only-of-type {\n",
       "        vertical-align: middle;\n",
       "    }\n",
       "\n",
       "    .dataframe tbody tr th {\n",
       "        vertical-align: top;\n",
       "    }\n",
       "\n",
       "    .dataframe thead th {\n",
       "        text-align: right;\n",
       "    }\n",
       "</style>\n",
       "<table border=\"1\" class=\"dataframe\">\n",
       "  <thead>\n",
       "    <tr style=\"text-align: right;\">\n",
       "      <th></th>\n",
       "      <th>item_price</th>\n",
       "      <th>item_amount</th>\n",
       "    </tr>\n",
       "  </thead>\n",
       "  <tbody>\n",
       "    <tr>\n",
       "      <td>0</td>\n",
       "      <td>5.50</td>\n",
       "      <td>4</td>\n",
       "    </tr>\n",
       "    <tr>\n",
       "      <td>1</td>\n",
       "      <td>5.89</td>\n",
       "      <td>2</td>\n",
       "    </tr>\n",
       "    <tr>\n",
       "      <td>2</td>\n",
       "      <td>5.90</td>\n",
       "      <td>1</td>\n",
       "    </tr>\n",
       "    <tr>\n",
       "      <td>3</td>\n",
       "      <td>5.94</td>\n",
       "      <td>1</td>\n",
       "    </tr>\n",
       "    <tr>\n",
       "      <td>4</td>\n",
       "      <td>5.95</td>\n",
       "      <td>3</td>\n",
       "    </tr>\n",
       "    <tr>\n",
       "      <td>...</td>\n",
       "      <td>...</td>\n",
       "      <td>...</td>\n",
       "    </tr>\n",
       "    <tr>\n",
       "      <td>253</td>\n",
       "      <td>99.99</td>\n",
       "      <td>18</td>\n",
       "    </tr>\n",
       "    <tr>\n",
       "      <td>254</td>\n",
       "      <td>100.00</td>\n",
       "      <td>2</td>\n",
       "    </tr>\n",
       "    <tr>\n",
       "      <td>255</td>\n",
       "      <td>199.99</td>\n",
       "      <td>8</td>\n",
       "    </tr>\n",
       "    <tr>\n",
       "      <td>256</td>\n",
       "      <td>300.00</td>\n",
       "      <td>8</td>\n",
       "    </tr>\n",
       "    <tr>\n",
       "      <td>257</td>\n",
       "      <td>10000.00</td>\n",
       "      <td>8</td>\n",
       "    </tr>\n",
       "  </tbody>\n",
       "</table>\n",
       "<p>258 rows × 2 columns</p>\n",
       "</div>"
      ],
      "text/plain": [
       "     item_price  item_amount\n",
       "0          5.50            4\n",
       "1          5.89            2\n",
       "2          5.90            1\n",
       "3          5.94            1\n",
       "4          5.95            3\n",
       "..          ...          ...\n",
       "253       99.99           18\n",
       "254      100.00            2\n",
       "255      199.99            8\n",
       "256      300.00            8\n",
       "257    10000.00            8\n",
       "\n",
       "[258 rows x 2 columns]"
      ]
     },
     "execution_count": 6,
     "metadata": {},
     "output_type": "execute_result"
    }
   ],
   "source": [
    "df_pickle = df.loc[idx[str(df.index[-1][0]), card_name], ['item_price', 'item_amount']].\\\n",
    "    reset_index(drop=True).groupby('item_price').sum().reset_index()\n",
    "df_pickle"
   ]
  },
  {
   "cell_type": "code",
   "execution_count": 7,
   "metadata": {},
   "outputs": [
    {
     "data": {
      "text/plain": [
       "\"\\nmaking the pickles\\n\\nfor card_name in df.index.levels[1]:\\n    # save the dfs \\n    file_name = card_name.replace('/', '').replace(',', '').replace('  ', '_').replace(' ', '_')\\n    df_pickle = df.loc[idx[str(df.index[-1][0]), card_name], ['item_price', 'item_amount']].        reset_index(drop=True).groupby('item_price').sum().reset_index()\\n    df_pickle = df_pickle.rename(columns={'item_price':'label', 'item_amount':'value'})\\n    df_pickle = df_pickle.astype({'label':str, 'value':str})\\n    list_pickle = list(df_pickle.T.to_dict().values())\\n    print(list_pickle)\\n    with open('./pickles/' + file_name + '_price_distribution_lastest_time_stamp.pickle', 'wb') as handle:\\n        pickle.dump(list_pickle, handle, protocol=pickle.HIGHEST_PROTOCOL)    \\n\""
      ]
     },
     "execution_count": 7,
     "metadata": {},
     "output_type": "execute_result"
    }
   ],
   "source": [
    "'''\n",
    "making the pickles\n",
    "\n",
    "for card_name in df.index.levels[1]:\n",
    "    # save the dfs \n",
    "    file_name = card_name.replace('/', '').replace(',', '').replace('  ', '_').replace(' ', '_')\n",
    "    df_pickle = df.loc[idx[str(df.index[-1][0]), card_name], ['item_price', 'item_amount']].\\\n",
    "        reset_index(drop=True).groupby('item_price').sum().reset_index()\n",
    "    df_pickle = df_pickle.rename(columns={'item_price':'label', 'item_amount':'value'})\n",
    "    df_pickle = df_pickle.astype({'label':str, 'value':str})\n",
    "    list_pickle = list(df_pickle.T.to_dict().values())\n",
    "    print(list_pickle)\n",
    "    with open('./pickles/' + file_name + '_price_distribution_lastest_time_stamp.pickle', 'wb') as handle:\n",
    "        pickle.dump(list_pickle, handle, protocol=pickle.HIGHEST_PROTOCOL)    \n",
    "'''"
   ]
  },
  {
   "cell_type": "markdown",
   "metadata": {},
   "source": [
    "#javascript code\n",
    "var flask_data = JSON.parse('{{ data_price_distribution_lastest_time_stamp | tojson | safe}}');\n",
    "var dataSource = {\n",
    "    chart: {\n",
    "        caption: \"Item Amount Distribution\",\n",
    "        subcaption: \"From latest timestamp\",\n",
    "        xaxisname: \"Price\",\n",
    "        yaxisname: \"Amount\",\n",
    "        numbersuffix: \"units\",\n",
    "        theme: \"fusion\"\n",
    "    },\n",
    "    data: flask_data\n",
    "};\n",
    "FusionCharts.ready(function() {\n",
    "    var chart = new FusionCharts({\n",
    "        type: 'column2d',\n",
    "        renderAt: 'chart-container-price_distribution_lastest_time_stamp',\n",
    "        width: '100%',//100% 700\n",
    "        height: '700%',//300% 400\n",
    "        dataFormat: 'json',\n",
    "        dataSource\n",
    "    });\n",
    "    chart.render();"
   ]
  },
  {
   "cell_type": "markdown",
   "metadata": {},
   "source": [
    "# Removing unnecessary points"
   ]
  },
  {
   "cell_type": "code",
   "execution_count": 8,
   "metadata": {},
   "outputs": [
    {
     "data": {
      "text/plain": [
       "'df_repeated'"
      ]
     },
     "metadata": {},
     "output_type": "display_data"
    },
    {
     "data": {
      "text/plain": [
       "(3022, 1)"
      ]
     },
     "metadata": {},
     "output_type": "display_data"
    },
    {
     "data": {
      "text/html": [
       "<div>\n",
       "<style scoped>\n",
       "    .dataframe tbody tr th:only-of-type {\n",
       "        vertical-align: middle;\n",
       "    }\n",
       "\n",
       "    .dataframe tbody tr th {\n",
       "        vertical-align: top;\n",
       "    }\n",
       "\n",
       "    .dataframe thead th {\n",
       "        text-align: right;\n",
       "    }\n",
       "</style>\n",
       "<table border=\"1\" class=\"dataframe\">\n",
       "  <thead>\n",
       "    <tr style=\"text-align: right;\">\n",
       "      <th></th>\n",
       "      <th>item_price</th>\n",
       "    </tr>\n",
       "  </thead>\n",
       "  <tbody>\n",
       "    <tr>\n",
       "      <td>0</td>\n",
       "      <td>5.50</td>\n",
       "    </tr>\n",
       "    <tr>\n",
       "      <td>1</td>\n",
       "      <td>5.50</td>\n",
       "    </tr>\n",
       "    <tr>\n",
       "      <td>2</td>\n",
       "      <td>5.50</td>\n",
       "    </tr>\n",
       "    <tr>\n",
       "      <td>3</td>\n",
       "      <td>5.50</td>\n",
       "    </tr>\n",
       "    <tr>\n",
       "      <td>4</td>\n",
       "      <td>5.89</td>\n",
       "    </tr>\n",
       "    <tr>\n",
       "      <td>5</td>\n",
       "      <td>5.89</td>\n",
       "    </tr>\n",
       "    <tr>\n",
       "      <td>6</td>\n",
       "      <td>5.90</td>\n",
       "    </tr>\n",
       "    <tr>\n",
       "      <td>7</td>\n",
       "      <td>5.94</td>\n",
       "    </tr>\n",
       "    <tr>\n",
       "      <td>8</td>\n",
       "      <td>5.95</td>\n",
       "    </tr>\n",
       "    <tr>\n",
       "      <td>9</td>\n",
       "      <td>5.95</td>\n",
       "    </tr>\n",
       "  </tbody>\n",
       "</table>\n",
       "</div>"
      ],
      "text/plain": [
       "   item_price\n",
       "0        5.50\n",
       "1        5.50\n",
       "2        5.50\n",
       "3        5.50\n",
       "4        5.89\n",
       "5        5.89\n",
       "6        5.90\n",
       "7        5.94\n",
       "8        5.95\n",
       "9        5.95"
      ]
     },
     "metadata": {},
     "output_type": "display_data"
    },
    {
     "data": {
      "text/plain": [
       "'df_amount'"
      ]
     },
     "metadata": {},
     "output_type": "display_data"
    },
    {
     "data": {
      "text/plain": [
       "(258, 2)"
      ]
     },
     "metadata": {},
     "output_type": "display_data"
    },
    {
     "data": {
      "text/html": [
       "<div>\n",
       "<style scoped>\n",
       "    .dataframe tbody tr th:only-of-type {\n",
       "        vertical-align: middle;\n",
       "    }\n",
       "\n",
       "    .dataframe tbody tr th {\n",
       "        vertical-align: top;\n",
       "    }\n",
       "\n",
       "    .dataframe thead th {\n",
       "        text-align: right;\n",
       "    }\n",
       "</style>\n",
       "<table border=\"1\" class=\"dataframe\">\n",
       "  <thead>\n",
       "    <tr style=\"text-align: right;\">\n",
       "      <th></th>\n",
       "      <th>item_price</th>\n",
       "      <th>item_amount</th>\n",
       "    </tr>\n",
       "  </thead>\n",
       "  <tbody>\n",
       "    <tr>\n",
       "      <td>0</td>\n",
       "      <td>5.50</td>\n",
       "      <td>4</td>\n",
       "    </tr>\n",
       "    <tr>\n",
       "      <td>1</td>\n",
       "      <td>5.89</td>\n",
       "      <td>2</td>\n",
       "    </tr>\n",
       "    <tr>\n",
       "      <td>2</td>\n",
       "      <td>5.90</td>\n",
       "      <td>1</td>\n",
       "    </tr>\n",
       "    <tr>\n",
       "      <td>3</td>\n",
       "      <td>5.94</td>\n",
       "      <td>1</td>\n",
       "    </tr>\n",
       "    <tr>\n",
       "      <td>4</td>\n",
       "      <td>5.95</td>\n",
       "      <td>3</td>\n",
       "    </tr>\n",
       "    <tr>\n",
       "      <td>5</td>\n",
       "      <td>5.98</td>\n",
       "      <td>1</td>\n",
       "    </tr>\n",
       "    <tr>\n",
       "      <td>6</td>\n",
       "      <td>5.99</td>\n",
       "      <td>2</td>\n",
       "    </tr>\n",
       "    <tr>\n",
       "      <td>7</td>\n",
       "      <td>6.00</td>\n",
       "      <td>27</td>\n",
       "    </tr>\n",
       "    <tr>\n",
       "      <td>8</td>\n",
       "      <td>6.19</td>\n",
       "      <td>1</td>\n",
       "    </tr>\n",
       "    <tr>\n",
       "      <td>9</td>\n",
       "      <td>6.20</td>\n",
       "      <td>1</td>\n",
       "    </tr>\n",
       "  </tbody>\n",
       "</table>\n",
       "</div>"
      ],
      "text/plain": [
       "   item_price  item_amount\n",
       "0        5.50            4\n",
       "1        5.89            2\n",
       "2        5.90            1\n",
       "3        5.94            1\n",
       "4        5.95            3\n",
       "5        5.98            1\n",
       "6        5.99            2\n",
       "7        6.00           27\n",
       "8        6.19            1\n",
       "9        6.20            1"
      ]
     },
     "metadata": {},
     "output_type": "display_data"
    },
    {
     "data": {
      "text/plain": [
       "\"\\nstart = 0.0\\nstop = df_.item_price.max()\\nstep = 0.01\\nitem_price_ = np.arange(start, stop, step)\\ndf__ = pd.DataFrame([(item_price_[i], 0) for i in range(len(item_price_))], columns=['item_price', 'item_amount'])\\ndf_dummy = df__.append(df_amount).sort_values(by=['item_price']).reset_index(drop=True)\\ndisplay('df_dummy', df_dummy.shape)\\ndisplay(df_dummy.head(10))\\n\""
      ]
     },
     "execution_count": 8,
     "metadata": {},
     "output_type": "execute_result"
    }
   ],
   "source": [
    "df_ = df.loc[idx[str(df.index[-1][0]), card_name], ['item_price', 'item_amount']].\\\n",
    "    reset_index(drop=True)\n",
    "df_repeated = pd.DataFrame(np.repeat(df_.item_price.values, df_.item_amount.values), columns=['item_price'])\n",
    "display('df_repeated', df_repeated.shape)\n",
    "display(df_repeated.head(10))\n",
    "\n",
    "df_amount = df_.groupby('item_price').sum().reset_index()\n",
    "display('df_amount', df_amount.shape)\n",
    "display(df_amount.head(10))\n",
    "\n",
    "'''\n",
    "Not gonna make or use dummy data now, gonna remove listings with highest prices first \n",
    "'''\n",
    "\n",
    "'''\n",
    "start = 0.0\n",
    "stop = df_.item_price.max()\n",
    "step = 0.01\n",
    "item_price_ = np.arange(start, stop, step)\n",
    "df__ = pd.DataFrame([(item_price_[i], 0) for i in range(len(item_price_))], columns=['item_price', 'item_amount'])\n",
    "df_dummy = df__.append(df_amount).sort_values(by=['item_price']).reset_index(drop=True)\n",
    "display('df_dummy', df_dummy.shape)\n",
    "display(df_dummy.head(10))\n",
    "'''"
   ]
  },
  {
   "cell_type": "code",
   "execution_count": 9,
   "metadata": {},
   "outputs": [
    {
     "data": {
      "text/plain": [
       "(258, 2)"
      ]
     },
     "execution_count": 9,
     "metadata": {},
     "output_type": "execute_result"
    }
   ],
   "source": [
    "# based on filtering done to df_repeated, filter values in df_amount to display the bar plot\n",
    "df_amount.loc[df_amount.item_price.isin(df_repeated.item_price)].shape"
   ]
  },
  {
   "cell_type": "code",
   "execution_count": 10,
   "metadata": {},
   "outputs": [
    {
     "data": {
      "text/plain": [
       "10000.0"
      ]
     },
     "execution_count": 10,
     "metadata": {},
     "output_type": "execute_result"
    }
   ],
   "source": [
    "df_repeated.item_price.max()"
   ]
  },
  {
   "cell_type": "code",
   "execution_count": 11,
   "metadata": {},
   "outputs": [
    {
     "data": {
      "text/plain": [
       "'\\nNot gonna make or use dummy data now, gonna remove listings with highest prices first \\n'"
      ]
     },
     "execution_count": 11,
     "metadata": {},
     "output_type": "execute_result"
    }
   ],
   "source": [
    "# based on filtering done to df_repeated, filter values in df_dummy to display the bar plot\n",
    "# note this will include the rows where the item_amount is 0\n",
    "# also note that the row count is correct because there is no dummy row for the most expensive listing\n",
    "'''\n",
    "Not gonna make or use dummy data now, gonna remove listings with highest prices first \n",
    "'''\n",
    "#df_dummy.loc[df_dummy.item_price <= df_repeated.item_price.max()]"
   ]
  },
  {
   "cell_type": "code",
   "execution_count": 12,
   "metadata": {},
   "outputs": [
    {
     "name": "stdout",
     "output_type": "stream",
     "text": [
      "shape (258, 2)\n",
      "mean 52.85160852713178\n",
      "median 9.01\n",
      "std 622.1808382722904\n"
     ]
    },
    {
     "data": {
      "text/plain": [
       "Text(0.5, 1.0, 'price distribution at latest timestamp')"
      ]
     },
     "execution_count": 12,
     "metadata": {},
     "output_type": "execute_result"
    },
    {
     "data": {
      "image/png": "[encoded data removed]",
      "text/plain": [
       "<Figure size 1080x216 with 1 Axes>"
      ]
     },
     "metadata": {
      "needs_background": "light"
     },
     "output_type": "display_data"
    },
    {
     "data": {
      "image/png": "[encoded data removed]",
      "text/plain": [
       "<Figure size 1080x216 with 1 Axes>"
      ]
     },
     "metadata": {
      "needs_background": "light"
     },
     "output_type": "display_data"
    }
   ],
   "source": [
    "'''\n",
    "I can plot the amount of offers at each price that is represented in the data\n",
    "'''\n",
    "print('shape', df_amount.shape)\n",
    "print('mean', df_amount.item_price.mean())\n",
    "print('median', df_amount.item_price.median())\n",
    "print('std', df_amount.item_price.std())\n",
    "df_repeated.boxplot(vert=False, figsize=(15,3))\n",
    "\n",
    "ax = df_amount.set_index('item_price').plot(kind='bar', figsize=(15,3))\n",
    "\n",
    "# fix axis\n",
    "n = 4 # this value should be ajusted according to the number of listings\n",
    "ticks = ax.xaxis.get_ticklocs()\n",
    "ticklabels = [l.get_text() for l in ax.xaxis.get_ticklabels()]  # <---- blearghk!!\n",
    "ax.xaxis.set_ticks(ticks[::n])\n",
    "ax.xaxis.set_ticklabels(ticklabels[::n])\n",
    "plt.xlabel('item_price')\n",
    "plt.ylabel('item_amount')\n",
    "plt.title('price distribution at latest timestamp')"
   ]
  },
  {
   "cell_type": "code",
   "execution_count": 13,
   "metadata": {},
   "outputs": [
    {
     "data": {
      "text/plain": [
       "\"\\nbut when i try to interpolate to get the prices that are not represented in the x axis \\nLOL 30253 points, there is no way i can plot this, it doesnt stop running\\n\\n\\nprint(df_dummy.shape)\\nprint(df_dummy.item_price.mean())\\nprint(df_dummy.item_price.mean())\\nprint(df_dummy.item_price.std())\\n\\nax = df_dummy.set_index('item_price').plot(kind='bar', figsize=(15,2))\\n\\n# fix axis\\nn = 4 # this value should be ajusted according to the number of listings\\nticks = ax.xaxis.get_ticklocs()\\nticklabels = [l.get_text() for l in ax.xaxis.get_ticklabels()]  # <---- blearghk!!\\nax.xaxis.set_ticks(ticks[::n])\\nax.xaxis.set_ticklabels(ticklabels[::n])\\nplt.xlabel('item_price')\\nplt.ylabel('item_amount')\\nplt.title(card_name + ' price distribution at ')\\n\""
      ]
     },
     "execution_count": 13,
     "metadata": {},
     "output_type": "execute_result"
    }
   ],
   "source": [
    "'''\n",
    "but when i try to interpolate to get the prices that are not represented in the x axis \n",
    "LOL 30253 points, there is no way i can plot this, it doesnt stop running\n",
    "\n",
    "\n",
    "print(df_dummy.shape)\n",
    "print(df_dummy.item_price.mean())\n",
    "print(df_dummy.item_price.mean())\n",
    "print(df_dummy.item_price.std())\n",
    "\n",
    "ax = df_dummy.set_index('item_price').plot(kind='bar', figsize=(15,2))\n",
    "\n",
    "# fix axis\n",
    "n = 4 # this value should be ajusted according to the number of listings\n",
    "ticks = ax.xaxis.get_ticklocs()\n",
    "ticklabels = [l.get_text() for l in ax.xaxis.get_ticklabels()]  # <---- blearghk!!\n",
    "ax.xaxis.set_ticks(ticks[::n])\n",
    "ax.xaxis.set_ticklabels(ticklabels[::n])\n",
    "plt.xlabel('item_price')\n",
    "plt.ylabel('item_amount')\n",
    "plt.title(card_name + ' price distribution at ')\n",
    "'''"
   ]
  },
  {
   "cell_type": "code",
   "execution_count": 14,
   "metadata": {},
   "outputs": [
    {
     "name": "stdout",
     "output_type": "stream",
     "text": [
      "shape (3014, 1)\n",
      "mean 11.215348374253484\n",
      "median 8.59\n",
      "std 19.665318772926756\n"
     ]
    },
    {
     "data": {
      "text/plain": [
       "'\\nNot gonna make or use dummy data now, gonna remove listings with highest prices first \\n'"
      ]
     },
     "execution_count": 14,
     "metadata": {},
     "output_type": "execute_result"
    },
    {
     "data": {
      "image/png": "[encoded data removed]",
      "text/plain": [
       "<Figure size 1080x216 with 1 Axes>"
      ]
     },
     "metadata": {
      "needs_background": "light"
     },
     "output_type": "display_data"
    },
    {
     "data": {
      "image/png": "[encoded data removed]",
      "text/plain": [
       "<Figure size 1080x144 with 1 Axes>"
      ]
     },
     "metadata": {
      "needs_background": "light"
     },
     "output_type": "display_data"
    }
   ],
   "source": [
    "'''\n",
    "Lets try to trim some of the most expensive cards\n",
    "'''\n",
    "\n",
    "'''\n",
    "In statistics, the standard score is the signed fractional number of standard deviations \n",
    "by which the value of an observation or data point is above the mean value of what \n",
    "is being observed or measured\n",
    "\n",
    "only values that are greater than the mean are to be excluded, \n",
    "because cheap items are desirable in the representation.\n",
    "threrefore, the absolute value of the zscore is not used\n",
    "'''\n",
    "df_repeated_z_iter_1 = df_repeated[(zscore(df_repeated.item_price) < 3)]\n",
    "df_filtered = df_repeated_z_iter_1\n",
    "df_filtered.boxplot(vert=False, figsize=(15,3))\n",
    "print('shape', df_filtered.shape)\n",
    "print('mean', df_filtered.item_price.mean())\n",
    "print('median', df_filtered.item_price.median())\n",
    "print('std', df_filtered.item_price.std())\n",
    "\n",
    "'''\n",
    "df_amount bar plot \n",
    "'''\n",
    "# based on filtering done to df_repeated, filter values in df_amount to display the bar plot\n",
    "df_ = df_amount.loc[df_amount.item_price.isin(df_filtered.item_price)]\n",
    "ax = df_.set_index('item_price').plot(kind='bar', figsize=(15,2))\n",
    "\n",
    "# fix axis\n",
    "n = 4 # this value should be ajusted according to the number of listings\n",
    "ticks = ax.xaxis.get_ticklocs()\n",
    "ticklabels = [l.get_text() for l in ax.xaxis.get_ticklabels()]  # <---- blearghk!!\n",
    "ax.xaxis.set_ticks(ticks[::n])\n",
    "ax.xaxis.set_ticklabels(ticklabels[::n])\n",
    "plt.xlabel('item_price')\n",
    "plt.ylabel('item_amount')\n",
    "plt.title('price distribution at ')\n",
    "\n",
    "'''\n",
    "df_dummy point count \n",
    "'''\n",
    "'''\n",
    "Not gonna make or use dummy data now, gonna remove listings with highest prices first \n",
    "'''\n",
    "\n",
    "# based on filtering done to df_repeated, filter values in df_dummy to display the bar plot\n",
    "# note this will include the rows where the item_amount is 0\n",
    "# also note that the row count is correct because there is no dummy row for the most expensive listing\n",
    "#'Ok, %d points, getting better '%df_dummy.loc[df_dummy.item_price <= df_filtered.item_price.max()].shape[0]"
   ]
  },
  {
   "cell_type": "code",
   "execution_count": 15,
   "metadata": {},
   "outputs": [
    {
     "name": "stdout",
     "output_type": "stream",
     "text": [
      "shape (2977, 1)\n",
      "mean 9.306456163923412\n",
      "median 8.53\n",
      "std 3.523178557976812\n"
     ]
    },
    {
     "data": {
      "text/plain": [
       "'\\nNot gonna make or use dummy data now, gonna remove listings with highest prices first \\n'"
      ]
     },
     "execution_count": 15,
     "metadata": {},
     "output_type": "execute_result"
    },
    {
     "data": {
      "image/png": "[encoded data removed]",
      "text/plain": [
       "<Figure size 1080x216 with 1 Axes>"
      ]
     },
     "metadata": {
      "needs_background": "light"
     },
     "output_type": "display_data"
    },
    {
     "data": {
      "image/png": "[encoded data removed]",
      "text/plain": [
       "<Figure size 1080x144 with 1 Axes>"
      ]
     },
     "metadata": {
      "needs_background": "light"
     },
     "output_type": "display_data"
    }
   ],
   "source": [
    "'''\n",
    "Lets try to trim some of the most expensive cards\n",
    "'''\n",
    "\n",
    "'''\n",
    "In statistics, the standard score is the signed fractional number of standard deviations \n",
    "by which the value of an observation or data point is above the mean value of what \n",
    "is being observed or measured\n",
    "\n",
    "only values that are greater than the mean are to be excluded, \n",
    "because cheap items are desirable in the representation.\n",
    "threrefore, the absolute value of the zscore is not used\n",
    "'''\n",
    "df_repeated_z_iter_2 = df_repeated_z_iter_1[(zscore(df_repeated_z_iter_1.item_price) < 3)]\n",
    "df_filtered = df_repeated_z_iter_2\n",
    "df_filtered.boxplot(vert=False, figsize=(15,3))\n",
    "print('shape', df_filtered.shape)\n",
    "print('mean', df_filtered.item_price.mean())\n",
    "print('median', df_filtered.item_price.median())\n",
    "print('std', df_filtered.item_price.std())\n",
    "\n",
    "'''\n",
    "df_amount bar plot \n",
    "'''\n",
    "# based on filtering done to df_repeated, filter values in df_amount to display the bar plot\n",
    "df_ = df_amount.loc[df_amount.item_price.isin(df_filtered.item_price)]\n",
    "ax = df_.set_index('item_price').plot(kind='bar', figsize=(15,2))\n",
    "\n",
    "# fix axis\n",
    "n = 4 # this value should be ajusted according to the number of listings\n",
    "ticks = ax.xaxis.get_ticklocs()\n",
    "ticklabels = [l.get_text() for l in ax.xaxis.get_ticklabels()]  # <---- blearghk!!\n",
    "ax.xaxis.set_ticks(ticks[::n])\n",
    "ax.xaxis.set_ticklabels(ticklabels[::n])\n",
    "plt.xlabel('item_price')\n",
    "plt.ylabel('item_amount')\n",
    "plt.title('price distribution at ')\n",
    "\n",
    "'''\n",
    "df_dummy point count \n",
    "'''\n",
    "'''\n",
    "Not gonna make or use dummy data now, gonna remove listings with highest prices first \n",
    "'''\n",
    "\n",
    "# based on filtering done to df_repeated, filter values in df_dummy to display the bar plot\n",
    "# note this will include the rows where the item_amount is 0\n",
    "# also note that the row count is correct because there is no dummy row for the most expensive listing\n",
    "#'Ok, %d points, getting better '%df_dummy.loc[df_dummy.item_price <= df_filtered.item_price.max()].shape[0]"
   ]
  },
  {
   "cell_type": "code",
   "execution_count": 16,
   "metadata": {},
   "outputs": [
    {
     "data": {
      "text/plain": [
       "'df_dummy'"
      ]
     },
     "metadata": {},
     "output_type": "display_data"
    },
    {
     "data": {
      "text/plain": [
       "(320, 2)"
      ]
     },
     "metadata": {},
     "output_type": "display_data"
    },
    {
     "data": {
      "text/html": [
       "<div>\n",
       "<style scoped>\n",
       "    .dataframe tbody tr th:only-of-type {\n",
       "        vertical-align: middle;\n",
       "    }\n",
       "\n",
       "    .dataframe tbody tr th {\n",
       "        vertical-align: top;\n",
       "    }\n",
       "\n",
       "    .dataframe thead th {\n",
       "        text-align: right;\n",
       "    }\n",
       "</style>\n",
       "<table border=\"1\" class=\"dataframe\">\n",
       "  <thead>\n",
       "    <tr style=\"text-align: right;\">\n",
       "      <th></th>\n",
       "      <th>item_price</th>\n",
       "      <th>item_amount</th>\n",
       "    </tr>\n",
       "  </thead>\n",
       "  <tbody>\n",
       "    <tr>\n",
       "      <td>0</td>\n",
       "      <td>0.00</td>\n",
       "      <td>0</td>\n",
       "    </tr>\n",
       "    <tr>\n",
       "      <td>1</td>\n",
       "      <td>1.00</td>\n",
       "      <td>0</td>\n",
       "    </tr>\n",
       "    <tr>\n",
       "      <td>2</td>\n",
       "      <td>2.00</td>\n",
       "      <td>0</td>\n",
       "    </tr>\n",
       "    <tr>\n",
       "      <td>3</td>\n",
       "      <td>3.00</td>\n",
       "      <td>0</td>\n",
       "    </tr>\n",
       "    <tr>\n",
       "      <td>4</td>\n",
       "      <td>4.00</td>\n",
       "      <td>0</td>\n",
       "    </tr>\n",
       "    <tr>\n",
       "      <td>5</td>\n",
       "      <td>5.00</td>\n",
       "      <td>0</td>\n",
       "    </tr>\n",
       "    <tr>\n",
       "      <td>6</td>\n",
       "      <td>5.50</td>\n",
       "      <td>4</td>\n",
       "    </tr>\n",
       "    <tr>\n",
       "      <td>7</td>\n",
       "      <td>5.89</td>\n",
       "      <td>2</td>\n",
       "    </tr>\n",
       "    <tr>\n",
       "      <td>8</td>\n",
       "      <td>5.90</td>\n",
       "      <td>1</td>\n",
       "    </tr>\n",
       "    <tr>\n",
       "      <td>9</td>\n",
       "      <td>5.94</td>\n",
       "      <td>1</td>\n",
       "    </tr>\n",
       "  </tbody>\n",
       "</table>\n",
       "</div>"
      ],
      "text/plain": [
       "   item_price  item_amount\n",
       "0        0.00            0\n",
       "1        1.00            0\n",
       "2        2.00            0\n",
       "3        3.00            0\n",
       "4        4.00            0\n",
       "5        5.00            0\n",
       "6        5.50            4\n",
       "7        5.89            2\n",
       "8        5.90            1\n",
       "9        5.94            1"
      ]
     },
     "metadata": {},
     "output_type": "display_data"
    },
    {
     "name": "stdout",
     "output_type": "stream",
     "text": [
      "(320, 2)\n",
      "15.986671875000003\n",
      "14.686882490779064\n"
     ]
    },
    {
     "data": {
      "text/plain": [
       "Text(0.5, 1.0, 'price distribution at ')"
      ]
     },
     "execution_count": 16,
     "metadata": {},
     "output_type": "execute_result"
    },
    {
     "data": {
      "image/png": "[encoded data removed]",
      "text/plain": [
       "<Figure size 1080x144 with 1 Axes>"
      ]
     },
     "metadata": {
      "needs_background": "light"
     },
     "output_type": "display_data"
    }
   ],
   "source": [
    "df_filtered = df_repeated_z_iter_2\n",
    "df_amount_filtered = df_amount.loc[df_amount.item_price.isin(df_filtered.item_price)]\n",
    "\n",
    "start = 0.0\n",
    "stop = df_amount_filtered.item_price.max()\n",
    "step = 1\n",
    "item_price_ = np.arange(start, stop, step)\n",
    "df__ = pd.DataFrame([(item_price_[i], 0) for i in range(len(item_price_))], columns=['item_price', 'item_amount'])\n",
    "df_dummy = df__.append(df_amount_filtered).sort_values(by=['item_price']).reset_index(drop=True)\n",
    "display('df_dummy', df_dummy.shape)\n",
    "display(df_dummy.head(10))\n",
    "\n",
    "'''\n",
    "let's try to plot with the interpolated points\n",
    "Now it runs!! and we have the data that is relevant to us\n",
    "'''\n",
    "df_plot = df_dummy.loc[df_dummy.item_price <= df_filtered.item_price.max()]\n",
    "ax = df_plot.set_index('item_price').plot(kind='bar', figsize=(15,2))\n",
    "\n",
    "print(df_plot.shape)\n",
    "print(df_plot.item_price.mean())\n",
    "print(df_plot.item_price.std())\n",
    "\n",
    "# fix axis\n",
    "n = 25 # this value should be ajusted according to the number of listings\n",
    "ticks = ax.xaxis.get_ticklocs()\n",
    "ticklabels = [l.get_text() for l in ax.xaxis.get_ticklabels()]  # <---- blearghk!!\n",
    "ax.xaxis.set_ticks(ticks[::n])\n",
    "ax.xaxis.set_ticklabels(ticklabels[::n])\n",
    "plt.xlabel('item_price')\n",
    "plt.ylabel('item_amount')\n",
    "plt.title('price distribution at ')"
   ]
  },
  {
   "cell_type": "code",
   "execution_count": 17,
   "metadata": {},
   "outputs": [
    {
     "data": {
      "text/plain": [
       "Text(0.5, 1.0, 'price distribution at ')"
      ]
     },
     "execution_count": 17,
     "metadata": {},
     "output_type": "execute_result"
    },
    {
     "data": {
      "image/png": "[encoded data removed]",
      "text/plain": [
       "<Figure size 1080x360 with 1 Axes>"
      ]
     },
     "metadata": {
      "needs_background": "light"
     },
     "output_type": "display_data"
    }
   ],
   "source": [
    "'''\n",
    "Finally, lets bin the data so that we can actually see the bars\n",
    "\n",
    "TODO: come up with a way to set the bin span automatically\n",
    "'''\n",
    "\n",
    "df_plot_ = df_plot.set_index('item_price')\n",
    "\n",
    "# the range of each bin\n",
    "bin_span = round(df_plot_.index.max()/110, 2)\n",
    "\n",
    "df_plot_binned = df_plot_.\\\n",
    "    groupby(pd.cut(df_plot_.index, np.arange(0, df_plot_.index.max() + bin_span, bin_span))).sum()\n",
    "\n",
    "ax = df_plot_binned.plot(kind='bar', figsize=(15,5))\n",
    "\n",
    "# fix axis\n",
    "n = 2 # this value should be ajusted according to the number of listings\n",
    "ticks = ax.xaxis.get_ticklocs()\n",
    "ticklabels = [l.get_text() for l in ax.xaxis.get_ticklabels()]  # <---- blearghk!!\n",
    "ax.xaxis.set_ticks(ticks[::n])\n",
    "ax.xaxis.set_ticklabels(ticklabels[::n])\n",
    "plt.xlabel('item_price')\n",
    "plt.ylabel('item_amount')\n",
    "plt.title('price distribution at ')"
   ]
  },
  {
   "cell_type": "code",
   "execution_count": 18,
   "metadata": {},
   "outputs": [
    {
     "data": {
      "text/plain": [
       "113.33333333333334"
      ]
     },
     "execution_count": 18,
     "metadata": {},
     "output_type": "execute_result"
    }
   ],
   "source": [
    "df_plot_.index.max()/.6"
   ]
  },
  {
   "cell_type": "code",
   "execution_count": 19,
   "metadata": {},
   "outputs": [
    {
     "data": {
      "text/plain": [
       "0.6181818181818182"
      ]
     },
     "execution_count": 19,
     "metadata": {},
     "output_type": "execute_result"
    }
   ],
   "source": [
    "df_plot_.index.max()/110"
   ]
  }
 ],
 "metadata": {
  "kernelspec": {
   "display_name": "Python 3",
   "language": "python",
   "name": "python3"
  },
  "language_info": {
   "codemirror_mode": {
    "name": "ipython",
    "version": 3
   },
   "file_extension": ".py",
   "mimetype": "text/x-python",
   "name": "python",
   "nbconvert_exporter": "python",
   "pygments_lexer": "ipython3",
   "version": "3.7.4"
  }
 },
 "nbformat": 4,
 "nbformat_minor": 2
}
