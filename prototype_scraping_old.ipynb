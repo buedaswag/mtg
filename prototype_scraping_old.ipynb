{
 "cells": [
  {
   "cell_type": "code",
   "execution_count": 1,
   "metadata": {},
   "outputs": [],
   "source": [
    "from selenium import webdriver \n",
    "from selenium.webdriver.common.by import By \n",
    "from selenium.webdriver.support.ui import WebDriverWait \n",
    "from selenium.webdriver.support import expected_conditions as EC \n",
    "from selenium.common.exceptions import TimeoutException\n",
    "from selenium.common.exceptions import ElementNotInteractableException\n",
    "import pandas as pd\n",
    "import requests\n",
    "from bs4 import BeautifulSoup\n",
    "import urllib.request\n",
    "import re\n",
    "import time"
   ]
  },
  {
   "cell_type": "code",
   "execution_count": null,
   "metadata": {},
   "outputs": [],
   "source": [
    "'''\n",
    "setup - load entire page, pressing 'show more' button\n",
    "'''\n",
    "\n",
    "url = 'https://www.cardmarket.com/en/Magic/Products/Singles/Modern-Horizons/Snow-Covered-Island'\n",
    "driver = webdriver.Chrome(\"/home/mig/Desktop/fcul 2019-2020/VD/project_mtg/selenium_drivers/chromedriver\")\n",
    "driver.get(url)\n",
    "\n",
    "try:\n",
    "    while True:\n",
    "        driver.find_element_by_xpath(r\"//span[contains(text(),'Show more results')]\").click()\n",
    "        time.sleep(2)\n",
    "except ElementNotInteractableException as e:\n",
    "    #now we have all the data, SCRAPE IT!!!\n",
    "    pass\n",
    "html = driver.page_source.encode('utf-8')"
   ]
  },
  {
   "cell_type": "code",
   "execution_count": 86,
   "metadata": {},
   "outputs": [
    {
     "data": {
      "text/plain": [
       "'\\nsoup = BeautifulSoup(html, \\'lxml\\')\\ntable_tag = soup.find_all(\\'div\\', class_=\"table-body\")\\ntable = table_tag[0]\\ninfo_tag = soup.find_all(\\'div\\', class_=\\'tab-container d-flex flex-column h-100\\')\\ninfo = info_tag[0]\\n'"
      ]
     },
     "execution_count": 86,
     "metadata": {},
     "output_type": "execute_result"
    }
   ],
   "source": [
    "'''\n",
    "setup - get the html to scrape\n",
    "'''\n",
    "'''\n",
    "    setup without selenium:\n",
    "'''  \n",
    "'''\n",
    "url = 'https://www.cardmarket.com/en/Magic/Products/Singles/Modern-Horizons/Snow-Covered-Island'\n",
    "source = urllib.request.urlopen(url).read()\n",
    "soup = BeautifulSoup(source, 'lxml')\n",
    "table_tag = soup.find_all('div', class_=\"table-body\")\n",
    "table = table_tag[0]\n",
    "info_tag = soup.find_all('div', class_='tab-container d-flex flex-column h-100')\n",
    "info = info_tag[0]\n",
    "'''\n",
    "\n",
    "'''\n",
    "    setup with selenium:\n",
    "'''\n",
    "soup = BeautifulSoup(html, 'lxml')\n",
    "table_tag = soup.find_all('div', class_=\"table-body\")\n",
    "table = table_tag[0]\n",
    "info_tag = soup.find_all('div', class_='tab-container d-flex flex-column h-100')\n",
    "info = info_tag[0]\n",
    "'''"
   ]
  },
  {
   "cell_type": "code",
   "execution_count": 87,
   "metadata": {},
   "outputs": [
    {
     "data": {
      "text/plain": [
       "'17855'"
      ]
     },
     "metadata": {},
     "output_type": "display_data"
    },
    {
     "data": {
      "text/plain": [
       "'0,09'"
      ]
     },
     "metadata": {},
     "output_type": "display_data"
    },
    {
     "data": {
      "text/plain": [
       "'0,38'"
      ]
     },
     "metadata": {},
     "output_type": "display_data"
    },
    {
     "data": {
      "text/plain": [
       "'0,38'"
      ]
     },
     "metadata": {},
     "output_type": "display_data"
    },
    {
     "data": {
      "text/plain": [
       "'0,39'"
      ]
     },
     "metadata": {},
     "output_type": "display_data"
    },
    {
     "data": {
      "text/plain": [
       "'0,38'"
      ]
     },
     "metadata": {},
     "output_type": "display_data"
    }
   ],
   "source": [
    "'''\n",
    "available_items\n",
    "from\n",
    "price_trend\n",
    "30_days_average_price\n",
    "7_days_average_price\n",
    "1_day_average_price\n",
    "'''\n",
    "'''\n",
    "tag = info.find_all('dl', class_='labeled row no-gutters mx-auto')\n",
    "regex_available_items = r'Available\\sitems</dt><dd\\sclass=\"col-6\\scol-xl-7\">\\d+<'\n",
    "regex_from = r'From</dt><dd\\sclass=\"col-6\\scol-xl-7\">\\d+,\\d+\\s€<'\n",
    "regex_price_trend = r'Price\\sTrend</dt><dd\\sclass=\"col-6\\scol-xl-7\"><span>\\d+,\\d+\\s€<'\n",
    "regex_30_days_average_price = r'30-days\\saverage\\sprice</dt><dd\\sclass=\"col-6\\scol-xl-7\"><span>\\d+,\\d+\\s€<'\n",
    "regex_7_days_average_price = r'7-days\\saverage\\sprice</dt><dd\\sclass=\"col-6\\scol-xl-7\"><span>\\d+,\\d+\\s€<'\n",
    "regex_1_day_average_price = r'1-day\\saverage\\sprice</dt><dd\\sclass=\"col-6\\scol-xl-7\"><span>\\d+,\\d+\\s€<'\n",
    "match1 = re.findall(regex_available_items, str(tag))\n",
    "match2 = re.findall(regex_from, str(tag))\n",
    "match3 = re.findall(regex_price_trend, str(tag))\n",
    "match4 = re.findall(regex_30_days_average_price, str(tag))\n",
    "match5 = re.findall(regex_7_days_average_price, str(tag))\n",
    "match6 = re.findall(regex_1_day_average_price, str(tag))\n",
    "display(match1[0][47:-1])\n",
    "display(match2[0][36:-3])\n",
    "display(match3[0][49:-3])\n",
    "display(match4[0][59:-3])\n",
    "display(match5[0][58:-3])\n",
    "display(match6[0][57:-3])\n",
    "\n",
    "_available_items = match1[0][47:-1]\n",
    "_from = match2[0][36:-3]\n",
    "_price_trend = match3[0][49:-3]\n",
    "_30_days_average_price = match4[0][59:-3]\n",
    "_7_days_average_price = match5[0][58:-3]\n",
    "_1_day_average_price = match6[0][57:-3]\n",
    "'''"
   ]
  },
  {
   "cell_type": "code",
   "execution_count": 88,
   "metadata": {},
   "outputs": [],
   "source": [
    "#get all rows in table\n",
    "row_tags = table.find_all('div', class_='row no-gutters article-row')"
   ]
  },
  {
   "cell_type": "code",
   "execution_count": 93,
   "metadata": {},
   "outputs": [
    {
     "name": "stdout",
     "output_type": "stream",
     "text": [
      "old price 0.990000\n",
      "new price 0.247500\n"
     ]
    },
    {
     "data": {
      "text/plain": [
       "'seller_names'"
      ]
     },
     "metadata": {},
     "output_type": "display_data"
    },
    {
     "data": {
      "text/plain": [
       "50"
      ]
     },
     "metadata": {},
     "output_type": "display_data"
    },
    {
     "data": {
      "text/plain": [
       "['toycastle',\n",
       " 'talcoon85',\n",
       " 'greggoss',\n",
       " 'svilla92',\n",
       " 'Ramix',\n",
       " 'Soldatpacif',\n",
       " 'xFL0x',\n",
       " 'Gui-B',\n",
       " 'arnaujuanco',\n",
       " 'Alphannibal']"
      ]
     },
     "metadata": {},
     "output_type": "display_data"
    },
    {
     "data": {
      "text/plain": [
       "'item_prices'"
      ]
     },
     "metadata": {},
     "output_type": "display_data"
    },
    {
     "data": {
      "text/plain": [
       "50"
      ]
     },
     "metadata": {},
     "output_type": "display_data"
    },
    {
     "data": {
      "text/plain": [
       "[0.09, 0.09, 0.1, 0.1, 0.1, 0.1, 0.1, 0.1, 0.1, 0.1]"
      ]
     },
     "metadata": {},
     "output_type": "display_data"
    },
    {
     "data": {
      "text/plain": [
       "'item_amounts'"
      ]
     },
     "metadata": {},
     "output_type": "display_data"
    },
    {
     "data": {
      "text/plain": [
       "50"
      ]
     },
     "metadata": {},
     "output_type": "display_data"
    },
    {
     "data": {
      "text/plain": [
       "['1', '2', '1', '1', '1', '1', '1', '1', '1', '1']"
      ]
     },
     "metadata": {},
     "output_type": "display_data"
    },
    {
     "data": {
      "text/plain": [
       "'item_locations'"
      ]
     },
     "metadata": {},
     "output_type": "display_data"
    },
    {
     "data": {
      "text/plain": [
       "50"
      ]
     },
     "metadata": {},
     "output_type": "display_data"
    },
    {
     "data": {
      "text/plain": [
       "['Austria',\n",
       " 'Germany',\n",
       " 'France',\n",
       " 'Spain',\n",
       " 'Spain',\n",
       " 'France',\n",
       " 'Germany',\n",
       " 'France',\n",
       " 'Spain',\n",
       " 'France']"
      ]
     },
     "metadata": {},
     "output_type": "display_data"
    },
    {
     "data": {
      "text/plain": [
       "'item_conditions'"
      ]
     },
     "metadata": {},
     "output_type": "display_data"
    },
    {
     "data": {
      "text/plain": [
       "50"
      ]
     },
     "metadata": {},
     "output_type": "display_data"
    },
    {
     "data": {
      "text/plain": [
       "['Near Mint',\n",
       " 'Near Mint',\n",
       " 'Near Mint',\n",
       " 'Near Mint',\n",
       " 'Near Mint',\n",
       " 'Near Mint',\n",
       " 'Near Mint',\n",
       " 'Near Mint',\n",
       " 'Near Mint',\n",
       " 'Near Mint']"
      ]
     },
     "metadata": {},
     "output_type": "display_data"
    },
    {
     "data": {
      "text/plain": [
       "'item_languages'"
      ]
     },
     "metadata": {},
     "output_type": "display_data"
    },
    {
     "data": {
      "text/plain": [
       "50"
      ]
     },
     "metadata": {},
     "output_type": "display_data"
    },
    {
     "data": {
      "text/plain": [
       "['English',\n",
       " 'English',\n",
       " 'French',\n",
       " 'Spanish',\n",
       " 'English',\n",
       " 'French',\n",
       " 'German',\n",
       " 'French',\n",
       " 'English',\n",
       " 'French']"
      ]
     },
     "metadata": {},
     "output_type": "display_data"
    },
    {
     "data": {
      "text/plain": [
       "'item_is_playsets'"
      ]
     },
     "metadata": {},
     "output_type": "display_data"
    },
    {
     "data": {
      "text/plain": [
       "50"
      ]
     },
     "metadata": {},
     "output_type": "display_data"
    },
    {
     "data": {
      "text/plain": [
       "[False,\n",
       " False,\n",
       " False,\n",
       " False,\n",
       " False,\n",
       " False,\n",
       " False,\n",
       " False,\n",
       " False,\n",
       " False,\n",
       " False,\n",
       " False,\n",
       " False,\n",
       " False,\n",
       " False,\n",
       " False,\n",
       " False,\n",
       " False,\n",
       " False,\n",
       " False,\n",
       " False,\n",
       " False,\n",
       " False,\n",
       " False,\n",
       " False,\n",
       " False,\n",
       " False,\n",
       " False,\n",
       " False,\n",
       " False,\n",
       " False,\n",
       " False,\n",
       " False,\n",
       " False,\n",
       " False,\n",
       " False,\n",
       " False,\n",
       " False,\n",
       " False,\n",
       " False,\n",
       " False,\n",
       " False,\n",
       " False,\n",
       " False,\n",
       " False,\n",
       " True,\n",
       " False,\n",
       " False,\n",
       " False,\n",
       " False]"
      ]
     },
     "metadata": {},
     "output_type": "display_data"
    }
   ],
   "source": [
    "def get_sales_available_items(row_tag):\n",
    "    tag=row_tag.find_all('span', class_='badge badge-faded d-none d-sm-inline-flex has-content-centered mr-1 sell-count')[0]#.get_text().strip()\n",
    "    regex = r'\\d+\\sSales\\s|\\s\\d+\\sAvailable\\sitems'\n",
    "    match = re.findall(regex, str(tag))\n",
    "    sales = match[0][:-7]\n",
    "    available_items = match[1][1:-16]\n",
    "    return sales, available_items\n",
    "\n",
    "def get_item_conditions_languages_is_playset(row_tag):\n",
    "    tag=row_tag.find_all('div', class_='product-attributes col-auto col-md-12 col-xl-5')[0]#.get_text().strip()\n",
    "    regex = r'showMsgBox\\(this,\\'.*?\\'\\)'\n",
    "    match = re.findall(regex, str(tag))\n",
    "    item_conditions = match[0][17:-2]\n",
    "    item_languages = match[1][17:-2]\n",
    "    item_is_playset = True if len(match) == 3 else False\n",
    "    return item_conditions, item_languages, item_is_playset\n",
    "    \n",
    "'''\n",
    "iterate through each row in the table\n",
    "'''\n",
    "seller_names = []\n",
    "item_prices = []\n",
    "item_amounts = [] \n",
    "seller_sales = []\n",
    "seller_available_items = []\n",
    "item_locations = []\n",
    "item_conditions = []\n",
    "item_languages = []\n",
    "item_is_playsets = []\n",
    "for row_tag in row_tags:\n",
    "    seller_names.append(row_tag.find_all('span', class_='d-flex has-content-centered mr-1')[0].get_text().strip())\n",
    "    \n",
    "    item_prices.append(row_tag.find_all('span', class_='font-weight-bold color-primary small text-right text-nowrap')[0].get_text().strip()[:-2])\n",
    "    \n",
    "    item_amounts.append(row_tag.find_all('span', class_='item-count small text-right')[0].get_text().strip()[:])\n",
    "    \n",
    "    sales, available_items = get_sales_available_items(row_tag)\n",
    "    seller_sales.append(sales)\n",
    "    seller_available_items.append(available_items)\n",
    "    \n",
    "    item_locations.append(row_tag.find_all('span', class_='icon d-flex has-content-centered mr-1')[0]['title'][15:])\n",
    "    \n",
    "    item_condition, item_language, item_is_playset = get_item_conditions_languages_is_playset(row_tag)\n",
    "    item_conditions.append(item_condition)\n",
    "    item_languages.append(item_language)\n",
    "    item_is_playsets.append(item_is_playset)\n",
    "\n",
    "'''\n",
    "change some datatypes\n",
    "'''\n",
    "item_prices = [float(x.replace(',','.')) for x in item_prices]\n",
    "item_amounts = [int(x) for x in item_amounts]\n",
    "\n",
    "'''\n",
    "correct for playsets:\n",
    "'''\n",
    "for i in range(len(item_is_playsets)):\n",
    "    if item_is_playsets[i] == True:\n",
    "        item_prices[i] = item_prices[i] / 4\n",
    "        item_amounts[i] = item_amounts[i] * 4\n",
    "    \n",
    "display('seller_names', len(seller_names), seller_names[:10], \n",
    "    'item_prices', len(item_prices), item_prices[:10], \n",
    "    'item_amounts', len(item_amounts), item_amounts[:10], \n",
    "    'item_locations', len(item_locations), item_locations[:10], \n",
    "    'item_conditions', len(item_conditions), item_conditions[:10], \n",
    "    'item_languages', len(item_languages), item_languages[:10], \n",
    "    'item_is_playsets' ,len(item_is_playsets), item_is_playsets[:])"
   ]
  },
  {
   "cell_type": "code",
   "execution_count": null,
   "metadata": {},
   "outputs": [],
   "source": [
    "'''\n",
    "put into pandas\n",
    "'''\n",
    "data_dict = {\n",
    "    'timestamp' = [pd.Timestamp.now(tz='UTC') for i in range(len(seller_names))],\n",
    "    'seller_names' = seller_names,\n",
    "    'seller_names' = seller_names,\n",
    "    'seller_names' = seller_names,\n",
    "    'seller_names' = seller_names,\n",
    "    'seller_names' = seller_names,\n",
    "    'seller_names' = seller_names,\n",
    "    'seller_names' = seller_names,\n",
    "}\n",
    "seller_names = []\n",
    "seller_sales = []\n",
    "seller_available_items = []\n",
    "item_prices = []\n",
    "item_amounts = [] \n",
    "item_locations = []\n",
    "item_conditions = []\n",
    "item_languages = []\n",
    "item_is_playsets = []"
   ]
  },
  {
   "cell_type": "code",
   "execution_count": 94,
   "metadata": {},
   "outputs": [
    {
     "data": {
      "text/plain": [
       "Timestamp('2019-10-07 18:30:47.811965+0000', tz='UTC')"
      ]
     },
     "execution_count": 94,
     "metadata": {},
     "output_type": "execute_result"
    }
   ],
   "source": [
    "pd.Timestamp.now(tz='UTC')"
   ]
  }
 ],
 "metadata": {
  "kernelspec": {
   "display_name": "Python 3",
   "language": "python",
   "name": "python3"
  },
  "language_info": {
   "codemirror_mode": {
    "name": "ipython",
    "version": 3
   },
   "file_extension": ".py",
   "mimetype": "text/x-python",
   "name": "python",
   "nbconvert_exporter": "python",
   "pygments_lexer": "ipython3",
   "version": "3.7.4"
  }
 },
 "nbformat": 4,
 "nbformat_minor": 2
}
