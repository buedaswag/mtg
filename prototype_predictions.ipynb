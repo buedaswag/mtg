{
 "cells": [
  {
   "cell_type": "code",
   "execution_count": 1,
   "metadata": {},
   "outputs": [],
   "source": [
    "import pandas as pd \n",
    "from matplotlib import pyplot as plt \n",
    "import numpy as np \n",
    "import matplotlib \n",
    "from sqlalchemy import create_engine\n",
    "from sshtunnel import SSHTunnelForwarder\n",
    "\n",
    "%matplotlib inline "
   ]
  },
  {
   "cell_type": "code",
   "execution_count": 2,
   "metadata": {},
   "outputs": [],
   "source": [
    "''' \n",
    "bitconnect to the database \n",
    "'''\n",
    "def get_db_connection():\n",
    "    username = 'mig'\n",
    "    password = 'password' \n",
    "    host_name = 'localhost'\n",
    "    port = 5432\n",
    "    db_name = 'mtg'\n",
    "    conn_str = 'postgresql://{}:{}@{}:{}/{}'.format(username, password, host_name, port, db_name)\n",
    "\n",
    "    engine = create_engine(conn_str)\n",
    "    return engine"
   ]
  },
  {
   "cell_type": "code",
   "execution_count": 2,
   "metadata": {},
   "outputs": [],
   "source": [
    "def get_db_connection():\n",
    "    \n",
    "    '''\n",
    "    close connections by doing \n",
    "\n",
    "    engine.dispose()\n",
    "    server.close()\n",
    "    '''\n",
    "    server = SSHTunnelForwarder(\n",
    "         ('mtgdata.ddns.net', 49000),\n",
    "         ssh_password=\"red\",\n",
    "         ssh_username=\"mig\",\n",
    "         remote_bind_address=('127.0.0.1', 5432)\n",
    "    )\n",
    "\n",
    "    server.start()\n",
    "\n",
    "    username = 'mig'\n",
    "    password = 'password' \n",
    "    host_name = 'localhost'\n",
    "    port = server.local_bind_port # assigned local port\n",
    "    db_name = 'mtg'\n",
    "    conn_str = 'postgresql://{}:{}@{}:{}/{}'.format(username, password, host_name, port, db_name)\n",
    "\n",
    "    engine = create_engine(conn_str)\n",
    "    \n",
    "    return engine, server"
   ]
  },
  {
   "cell_type": "code",
   "execution_count": 7,
   "metadata": {},
   "outputs": [],
   "source": [
    "'''\n",
    "read the records\n",
    "'''\n",
    "\n",
    "now = pd.Timestamp.now(tz='UTC').date()\n",
    "now_minus_24_hours = now - pd.Timedelta('%d hours'%(24,))\n",
    "engine, server = get_db_connection()\n",
    "\n",
    "query = '''\n",
    "SELECT *  \n",
    "FROM card_listings;\n",
    "'''#%(str(now_minus_24_hours), str(now))\n",
    "\n",
    "df_db = pd.read_sql_query(query, engine)\n",
    "engine.dispose()\n",
    "server.close()"
   ]
  },
  {
   "cell_type": "code",
   "execution_count": 8,
   "metadata": {},
   "outputs": [
    {
     "data": {
      "text/plain": [
       "card_name                         object\n",
       "ts                        datetime64[ns]\n",
       "list_order                         int64\n",
       "seller_name                       object\n",
       "seller_sales                       int64\n",
       "seller_available_items             int64\n",
       "item_price                       float64\n",
       "item_amount                        int64\n",
       "item_location                     object\n",
       "item_condition                    object\n",
       "item_language                     object\n",
       "item_is_playset                     bool\n",
       "item_is_foil                        bool\n",
       "dtype: object"
      ]
     },
     "execution_count": 8,
     "metadata": {},
     "output_type": "execute_result"
    }
   ],
   "source": [
    "df_db.dtypes"
   ]
  },
  {
   "cell_type": "code",
   "execution_count": 9,
   "metadata": {},
   "outputs": [
    {
     "data": {
      "text/plain": [
       "(715176, 13)"
      ]
     },
     "execution_count": 9,
     "metadata": {},
     "output_type": "execute_result"
    }
   ],
   "source": [
    "df_db.shape"
   ]
  },
  {
   "cell_type": "code",
   "execution_count": 10,
   "metadata": {},
   "outputs": [
    {
     "data": {
      "text/html": [
       "<div>\n",
       "<style scoped>\n",
       "    .dataframe tbody tr th:only-of-type {\n",
       "        vertical-align: middle;\n",
       "    }\n",
       "\n",
       "    .dataframe tbody tr th {\n",
       "        vertical-align: top;\n",
       "    }\n",
       "\n",
       "    .dataframe thead th {\n",
       "        text-align: right;\n",
       "    }\n",
       "</style>\n",
       "<table border=\"1\" class=\"dataframe\">\n",
       "  <thead>\n",
       "    <tr style=\"text-align: right;\">\n",
       "      <th></th>\n",
       "      <th>card_name</th>\n",
       "      <th>ts</th>\n",
       "      <th>list_order</th>\n",
       "      <th>seller_name</th>\n",
       "      <th>seller_sales</th>\n",
       "      <th>seller_available_items</th>\n",
       "      <th>item_price</th>\n",
       "      <th>item_amount</th>\n",
       "      <th>item_location</th>\n",
       "      <th>item_condition</th>\n",
       "      <th>item_language</th>\n",
       "      <th>item_is_playset</th>\n",
       "      <th>item_is_foil</th>\n",
       "    </tr>\n",
       "  </thead>\n",
       "  <tbody>\n",
       "    <tr>\n",
       "      <td>0</td>\n",
       "      <td>Fabled Passage</td>\n",
       "      <td>2019-10-11 07:03:14.258221</td>\n",
       "      <td>332</td>\n",
       "      <td>gpap1995</td>\n",
       "      <td>0</td>\n",
       "      <td>11</td>\n",
       "      <td>14.0</td>\n",
       "      <td>1</td>\n",
       "      <td></td>\n",
       "      <td>NM</td>\n",
       "      <td>English</td>\n",
       "      <td>False</td>\n",
       "      <td>True</td>\n",
       "    </tr>\n",
       "  </tbody>\n",
       "</table>\n",
       "</div>"
      ],
      "text/plain": [
       "        card_name                         ts  list_order seller_name  \\\n",
       "0  Fabled Passage 2019-10-11 07:03:14.258221         332    gpap1995   \n",
       "\n",
       "   seller_sales  seller_available_items  item_price  item_amount  \\\n",
       "0             0                      11        14.0            1   \n",
       "\n",
       "  item_location item_condition item_language  item_is_playset  item_is_foil  \n",
       "0                           NM       English            False          True  "
      ]
     },
     "execution_count": 10,
     "metadata": {},
     "output_type": "execute_result"
    }
   ],
   "source": [
    "df_db.head(1)"
   ]
  },
  {
   "cell_type": "code",
   "execution_count": 11,
   "metadata": {},
   "outputs": [],
   "source": [
    "#fix the ts\n",
    "def correct_ts(ts):\n",
    "    minute = 0 if ts.minute < 30 else 30\n",
    "    ts_corrected = pd.Timestamp(ts.year, ts.month, ts.day, ts.hour, minute)\n",
    "    return ts_corrected\n",
    "\n",
    "def data_transformer(df):\n",
    "    df = df.copy()\n",
    "    df.ts = df.ts.map(correct_ts)\n",
    "    df = df.drop('list_order', axis=1)\n",
    "    df = df.set_index(['ts', 'card_name'])\n",
    "    df = df.sort_index()\n",
    "    return df"
   ]
  },
  {
   "cell_type": "code",
   "execution_count": 31,
   "metadata": {},
   "outputs": [],
   "source": [
    "df = data_transformer(df_db)\n",
    "idx = pd.IndexSlice"
   ]
  },
  {
   "cell_type": "code",
   "execution_count": 51,
   "metadata": {},
   "outputs": [
    {
     "data": {
      "text/plain": [
       "array([''], dtype=object)"
      ]
     },
     "execution_count": 51,
     "metadata": {},
     "output_type": "execute_result"
    }
   ],
   "source": [
    "df.item_location.unique()"
   ]
  },
  {
   "cell_type": "code",
   "execution_count": 54,
   "metadata": {},
   "outputs": [
    {
     "data": {
      "text/plain": [
       "8772"
      ]
     },
     "execution_count": 54,
     "metadata": {},
     "output_type": "execute_result"
    }
   ],
   "source": [
    "df_xs.loc['2019-10-13 13:30:00', 'item_amount'].sum()"
   ]
  },
  {
   "cell_type": "code",
   "execution_count": 36,
   "metadata": {},
   "outputs": [],
   "source": [
    "df_xs = df.xs('Snow Covered Island', level='card_name', drop_level=True)"
   ]
  },
  {
   "cell_type": "code",
   "execution_count": 37,
   "metadata": {},
   "outputs": [
    {
     "data": {
      "image/png": "[encoded data removed]",
      "text/plain": [
       "<Figure size 1152x288 with 1 Axes>"
      ]
     },
     "metadata": {
      "needs_background": "light"
     },
     "output_type": "display_data"
    }
   ],
   "source": [
    "df_xs.loc[:, 'item_price'].groupby(df_xs.index).sum().plot(figsize=(16, 4), rot=20); "
   ]
  },
  {
   "cell_type": "code",
   "execution_count": null,
   "metadata": {},
   "outputs": [],
   "source": []
  }
 ],
 "metadata": {
  "kernelspec": {
   "display_name": "Python 3",
   "language": "python",
   "name": "python3"
  },
  "language_info": {
   "codemirror_mode": {
    "name": "ipython",
    "version": 3
   },
   "file_extension": ".py",
   "mimetype": "text/x-python",
   "name": "python",
   "nbconvert_exporter": "python",
   "pygments_lexer": "ipython3",
   "version": "3.7.4"
  }
 },
 "nbformat": 4,
 "nbformat_minor": 2
}
