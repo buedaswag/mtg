{
 "cells": [
  {
   "cell_type": "code",
   "execution_count": null,
   "metadata": {},
   "outputs": [],
   "source": [
    "import pandas as pd \n",
    "from matplotlib import pyplot as plt \n",
    "import numpy as np \n",
    "import matplotlib \n",
    "from sqlalchemy import create_engine\n",
    "from sshtunnel import SSHTunnelForwarder\n",
    "\n",
    "%matplotlib inline "
   ]
  },
  {
   "cell_type": "code",
   "execution_count": null,
   "metadata": {},
   "outputs": [],
   "source": [
    "def get_db_connection_ssh(local = False):\n",
    "    \n",
    "    '''\n",
    "    close connections by doing \n",
    "\n",
    "    engine.dispose()\n",
    "    server.close()\n",
    "    '''\n",
    "    \n",
    "    server_host = '192.168.1.8' if local == True else 'mtgdata.ddns.net'\n",
    "    server = SSHTunnelForwarder(\n",
    "         (server_host, 49000),\n",
    "         ssh_password=\"red\",\n",
    "         ssh_username=\"mig\",\n",
    "         remote_bind_address=('127.0.0.1', 5432)\n",
    "    )\n",
    "\n",
    "    server.start()\n",
    "\n",
    "    username = 'mig'\n",
    "    password = 'password' \n",
    "    host_name = 'localhost'\n",
    "    port = server.local_bind_port # assigned local port\n",
    "    db_name = 'mtg'\n",
    "    conn_str = 'postgresql://{}:{}@{}:{}/{}'.format(username, password, host_name, port, db_name)\n",
    "\n",
    "    engine = create_engine(conn_str)\n",
    "    \n",
    "    return engine, server"
   ]
  }
 ],
 "metadata": {
  "kernelspec": {
   "display_name": "Python 3",
   "language": "python",
   "name": "python3"
  },
  "language_info": {
   "codemirror_mode": {
    "name": "ipython",
    "version": 3
   },
   "file_extension": ".py",
   "mimetype": "text/x-python",
   "name": "python",
   "nbconvert_exporter": "python",
   "pygments_lexer": "ipython3",
   "version": "3.7.4"
  }
 },
 "nbformat": 4,
 "nbformat_minor": 2
}
